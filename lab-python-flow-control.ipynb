{
 "cells": [
  {
   "cell_type": "markdown",
   "id": "d3bfc191-8885-42ee-b0a0-bbab867c6f9f",
   "metadata": {
    "tags": []
   },
   "source": [
    "# Lab | Flow Control"
   ]
  },
  {
   "cell_type": "markdown",
   "id": "3851fcd1-cf98-4653-9c89-e003b7ec9400",
   "metadata": {},
   "source": [
    "## Exercise: Managing Customer Orders Optimized\n",
    "\n",
    "In the last lab, you were starting an online store that sells various products. To ensure smooth operations, you developed a program that manages customer orders and inventory.\n",
    "\n",
    "You did so without using flow control. Let's go a step further and improve this code.\n",
    "\n",
    "Follow the steps below to complete the exercise:\n",
    "\n",
    "1. Look at your code from the lab data structures, and improve repeated code with loops.\n",
    "\n",
    "2. Instead of asking the user to input the name of three products that a customer wants to order, do the following:\n",
    "    \n",
    "    a. Prompt the user to enter the name of a product that a customer wants to order.\n",
    "    \n",
    "    b. Add the product name to the \"customer_orders\" set.\n",
    "    \n",
    "    c. Ask the user if they want to add another product (yes/no).\n",
    "    \n",
    "    d. Continue the loop until the user does not want to add another product.\n",
    "\n",
    "3. Instead of updating the inventory by subtracting 1 from the quantity of each product, only do it for  the products that were ordered (those in \"customer_orders\")."
   ]
  },
  {
   "cell_type": "code",
   "execution_count": 2,
   "id": "7de63e8d",
   "metadata": {},
   "outputs": [
    {
     "name": "stdout",
     "output_type": "stream",
     "text": [
      "Invalid input, please answer with 'yes' or 'no'.\n",
      "Thank you for your order!\n",
      "Your order includes: {'t-shirt', 'mug', 'hat'}\n",
      "Order Statistics:\n",
      "Total Products Ordered: 3\n",
      "Percentage of Products Ordered: 60.00%\n",
      "Updated Inventory: {'t-shirt': 7, 'mug': 9, 'hat': 9, 'book': 10, 'keychain': 10}\n"
     ]
    }
   ],
   "source": [
    "# We're starting by creating a list with our venture items\n",
    "product = [\"t-shirt\", \"mug\", \"hat\", \"book\", \"keychain\"]\n",
    "\n",
    "# We're creating an empty dictionary to be our inventory\n",
    "inventory = {}\n",
    "\n",
    "# Now, we're creating an empty set to serve as customers orders\n",
    "customer_orders = set()\n",
    "\n",
    "# We're now asking the user input for the stock of each product\n",
    "for item in product:\n",
    "    stock = int(input(f\"Enter the stock for {item}: \"))\n",
    "    inventory[item] = stock # Adding the item and its stock to the inventory dictionary\n",
    "\n",
    "# We're asking the user to input items they want to order and adding them to the orders set, then asking if they want to order more\n",
    "while True:\n",
    "    order = input(\"Enter a product from the catalog you want to order: \").lower()\n",
    "    if order in product:\n",
    "        if inventory[order] > 0: # Check if the item is in stock\n",
    "            inventory[order] -= 1 # Reduce the stock by 1 in the loop for avoiding repetition\n",
    "            customer_orders.add(order) # Add the item to the customer's orders\n",
    "        else:\n",
    "            print(f\"Sorry, {order} is out of stock.\")\n",
    "    else:\n",
    "        print(\"This product is not in the catalog, please try again.\")\n",
    "    \n",
    "    # Asking if the user wants to order more products\n",
    "    more = input(\"Do you want to order more products? (yes/no): \").lower() \n",
    "\n",
    "    if more == \"no\":\n",
    "        print(\"Thank you for your order!\")\n",
    "        break\n",
    "    elif more != \"yes\":\n",
    "        print(\"Invalid input, please answer with 'yes' or 'no'.\")   \n",
    "\n",
    "# Printing the customer's orders (some improvements may be needed here to display quantities if the same item is ordered multiple times)\n",
    "print(f\"Your order includes: {customer_orders}\")\n",
    "\n",
    "# Now, we need to perform some statistics calculations on the customer's orders based on the inventory\n",
    "total_products_ordered = len(customer_orders)\n",
    "percentage_of_products_ordered = total_products_ordered / len(product) * 100\n",
    "order_status = (total_products_ordered, percentage_of_products_ordered)\n",
    "\n",
    "print(f\"\"\"Order Statistics:\n",
    "Total Products Ordered: {order_status[0]}\n",
    "Percentage of Products Ordered: {order_status[1]:.2f}%\"\"\") \n",
    "\n",
    "print(f\"Updated Inventory: {inventory}\")"
   ]
  }
 ],
 "metadata": {
  "kernelspec": {
   "display_name": "Python 3",
   "language": "python",
   "name": "python3"
  },
  "language_info": {
   "codemirror_mode": {
    "name": "ipython",
    "version": 3
   },
   "file_extension": ".py",
   "mimetype": "text/x-python",
   "name": "python",
   "nbconvert_exporter": "python",
   "pygments_lexer": "ipython3",
   "version": "3.9.6"
  }
 },
 "nbformat": 4,
 "nbformat_minor": 5
}
